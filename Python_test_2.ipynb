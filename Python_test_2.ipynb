{
  "nbformat": 4,
  "nbformat_minor": 0,
  "metadata": {
    "colab": {
      "provenance": []
    },
    "kernelspec": {
      "name": "python3",
      "display_name": "Python 3"
    },
    "language_info": {
      "name": "python"
    }
  },
  "cells": [
    {
      "cell_type": "markdown",
      "source": [
        "1) Write the rules for creating variables.\n",
        "*  A Python variable name must start with a letter or the underscore character.\n",
        "*  A Python variable name cannot start with a number.\n",
        "*  A Python variable name can only contain alpha-numeric characters and underscores.\n",
        "*  Variable in Python names are case-sensitive.\n",
        "*  The reserved keywords in Python cannot be used to name the variable in Python.\n"
      ],
      "metadata": {
        "id": "fMgxAIQUBpvK"
      }
    },
    {
      "cell_type": "markdown",
      "source": [
        "2) What is type function?\n",
        "*  The type() function returns the type of the specified object."
      ],
      "metadata": {
        "id": "mpMXtXSUCTpU"
      }
    },
    {
      "cell_type": "markdown",
      "source": [
        "3) Difference between = and ==.\n",
        "*  = assigns a value to a variable.\n",
        "*  == checks whether two variables or values are the same."
      ],
      "metadata": {
        "id": "FVozP6jJCzdU"
      }
    },
    {
      "cell_type": "markdown",
      "source": [
        "4) Difference between mutable and unmutable.\n",
        "*  An immutable object can’t be changed after it is created.\n",
        "*  Mutable object can be changed."
      ],
      "metadata": {
        "id": "87-KjGnYDJg9"
      }
    },
    {
      "cell_type": "markdown",
      "source": [
        "5) Write a python code to print first 10 natural numbers using loops."
      ],
      "metadata": {
        "id": "hGSsUmJYDyW2"
      }
    },
    {
      "cell_type": "code",
      "source": [
        "for i in range(1,11):\n",
        "    print(i)"
      ],
      "metadata": {
        "colab": {
          "base_uri": "https://localhost:8080/"
        },
        "id": "DVPNMDibRkbl",
        "outputId": "80ab46d6-1738-401c-9d7e-cfa121515249"
      },
      "execution_count": 1,
      "outputs": [
        {
          "output_type": "stream",
          "name": "stdout",
          "text": [
            "1\n",
            "2\n",
            "3\n",
            "4\n",
            "5\n",
            "6\n",
            "7\n",
            "8\n",
            "9\n",
            "10\n"
          ]
        }
      ]
    },
    {
      "cell_type": "code",
      "source": [
        "n = 1\n",
        "while n <= 10:\n",
        "   print(n)\n",
        "   n+=1"
      ],
      "metadata": {
        "colab": {
          "base_uri": "https://localhost:8080/"
        },
        "id": "wbagDMhfShqf",
        "outputId": "974d37ce-6db0-4ea7-e9c1-2a10ab71bdcc"
      },
      "execution_count": 3,
      "outputs": [
        {
          "output_type": "stream",
          "name": "stdout",
          "text": [
            "1\n",
            "2\n",
            "3\n",
            "4\n",
            "5\n",
            "6\n",
            "7\n",
            "8\n",
            "9\n",
            "10\n"
          ]
        }
      ]
    },
    {
      "cell_type": "markdown",
      "source": [
        "6) Write a python program to find sum of first natural numbers."
      ],
      "metadata": {
        "id": "hgmflR5MS1E5"
      }
    },
    {
      "cell_type": "code",
      "source": [
        "n = 0\n",
        "\n",
        "for i in range (1, 11):\n",
        "  n+=i\n",
        "  print (n)"
      ],
      "metadata": {
        "colab": {
          "base_uri": "https://localhost:8080/"
        },
        "id": "bMS1qpBgTJ7T",
        "outputId": "6f889aba-a2e6-4e02-fa58-db0526c4d4ef"
      },
      "execution_count": 7,
      "outputs": [
        {
          "output_type": "stream",
          "name": "stdout",
          "text": [
            "1\n",
            "3\n",
            "6\n",
            "10\n",
            "15\n",
            "21\n",
            "28\n",
            "36\n",
            "45\n",
            "55\n"
          ]
        }
      ]
    },
    {
      "cell_type": "markdown",
      "source": [
        "7) Write a python program to identify given number is a prime or not."
      ],
      "metadata": {
        "id": "y_tyI8I9VB9W"
      }
    },
    {
      "cell_type": "code",
      "source": [
        "number = int(input(\"Enter any number: \"))\n",
        "if number > 1:\n",
        "\n",
        "  for i in range(2, number):\n",
        "        if (number % i) == 0:\n",
        "            print(number, \"is not a prime number\")\n",
        "        else:\n",
        "            print(number, \"is a prime number\")"
      ],
      "metadata": {
        "colab": {
          "base_uri": "https://localhost:8080/"
        },
        "id": "evutiCZHVKvh",
        "outputId": "35e1dd7d-5fd9-4b35-894e-a8e06f1f0ec0"
      },
      "execution_count": 12,
      "outputs": [
        {
          "output_type": "stream",
          "name": "stdout",
          "text": [
            "Enter any number: 3\n",
            "3 is a prime number\n"
          ]
        }
      ]
    },
    {
      "cell_type": "markdown",
      "source": [
        "8) Write a python program to identify the factorial of given number."
      ],
      "metadata": {
        "id": "JnZOSeNugn2B"
      }
    },
    {
      "cell_type": "code",
      "source": [
        "num = int(input(\"enter a number: \"))\n",
        "\n",
        "fac = 1\n",
        "\n",
        "for i in range(1, num + 1):\n",
        "\tfac = fac * i\n",
        "print(f'factorial is {fac}')"
      ],
      "metadata": {
        "colab": {
          "base_uri": "https://localhost:8080/"
        },
        "id": "tvFZK95ChFT1",
        "outputId": "9d6a4792-11a8-4faa-9e55-d346133ff603"
      },
      "execution_count": 25,
      "outputs": [
        {
          "output_type": "stream",
          "name": "stdout",
          "text": [
            "enter a number: 5\n",
            "factorial is 120\n"
          ]
        }
      ]
    },
    {
      "cell_type": "markdown",
      "source": [
        "9) Write a python program to print multiplication table of a given number."
      ],
      "metadata": {
        "id": "Q0eQhxaNhegR"
      }
    },
    {
      "cell_type": "code",
      "source": [
        "num = int(input(\"Enter the number\"))\n",
        "k = 1\n",
        "\n",
        "for i in range(10):\n",
        "  mul = num*k\n",
        "  print(mul)\n",
        "  k = k+1"
      ],
      "metadata": {
        "colab": {
          "base_uri": "https://localhost:8080/"
        },
        "id": "WujUrultiED7",
        "outputId": "ac9d47c7-1854-407c-bf98-341d5655ed63"
      },
      "execution_count": 27,
      "outputs": [
        {
          "output_type": "stream",
          "name": "stdout",
          "text": [
            "Enter the number 6\n",
            "6\n",
            "12\n",
            "18\n",
            "24\n",
            "30\n",
            "36\n",
            "42\n",
            "48\n",
            "54\n",
            "60\n"
          ]
        }
      ]
    },
    {
      "cell_type": "markdown",
      "source": [
        "10) Write a python program to count total number of digits in a list."
      ],
      "metadata": {
        "id": "kiCWsetHjXB5"
      }
    },
    {
      "cell_type": "code",
      "source": [
        "num = 3452\n",
        "count = 0\n",
        "\n",
        "while num > 0:\n",
        "    num //= 10\n",
        "    count += 1\n",
        "print(\"Number of digits: \" + str(count))"
      ],
      "metadata": {
        "colab": {
          "base_uri": "https://localhost:8080/"
        },
        "id": "zLr_EOYOjisN",
        "outputId": "15ace42a-7413-4ad6-c249-52cb338a74ea"
      },
      "execution_count": 29,
      "outputs": [
        {
          "output_type": "stream",
          "name": "stdout",
          "text": [
            "Number of digits: 4\n"
          ]
        }
      ]
    },
    {
      "cell_type": "markdown",
      "source": [
        "11) Write a pytho program to print list in a reverse using loop."
      ],
      "metadata": {
        "id": "j3neRc9wkAlk"
      }
    },
    {
      "cell_type": "code",
      "source": [
        "numbers = [71, 36, 51, 75, 82, 78, 40]\n",
        "reverse_num = []\n",
        "\n",
        "for num in numbers:\n",
        " reverse_num = [num] + reverse_num\n",
        "print('Reversed List:', reverse_num)"
      ],
      "metadata": {
        "colab": {
          "base_uri": "https://localhost:8080/"
        },
        "id": "9ss-Nh9VkvEk",
        "outputId": "4ae2ff71-41ad-4c13-9988-706b75fcedda"
      },
      "execution_count": 30,
      "outputs": [
        {
          "output_type": "stream",
          "name": "stdout",
          "text": [
            "Reversed List: [40, 78, 82, 75, 51, 36, 71]\n"
          ]
        }
      ]
    },
    {
      "cell_type": "markdown",
      "source": [
        "13) Write a python code to display from -10 to -1 using loop."
      ],
      "metadata": {
        "id": "knmI_Ed4k_pW"
      }
    },
    {
      "cell_type": "code",
      "source": [
        "for num in range(-10, 0):\n",
        "    print(num)"
      ],
      "metadata": {
        "colab": {
          "base_uri": "https://localhost:8080/"
        },
        "id": "lRoDdw1KlLNb",
        "outputId": "647cd705-f125-48aa-d9d4-f6f75443baab"
      },
      "execution_count": 32,
      "outputs": [
        {
          "output_type": "stream",
          "name": "stdout",
          "text": [
            "-10\n",
            "-9\n",
            "-8\n",
            "-7\n",
            "-6\n",
            "-5\n",
            "-4\n",
            "-3\n",
            "-2\n",
            "-1\n"
          ]
        }
      ]
    }
  ]
}