{
  "nbformat": 4,
  "nbformat_minor": 0,
  "metadata": {
    "colab": {
      "provenance": []
    },
    "kernelspec": {
      "name": "python3",
      "display_name": "Python 3"
    },
    "language_info": {
      "name": "python"
    }
  },
  "cells": [
    {
      "cell_type": "code",
      "source": [
        "veg=['paneer', 'methi chaman', 'cashew curry', 'gobi fry']\n",
        "non_veg=['fish curry', 'chicken curry', 'mutton curry', 'prawns']\n",
        "print(\"Welcome to vamsi restaurant\")\n",
        "print(\"Here is our veg and non veg menu\")\n",
        "print(f'veg menu:(veg)')\n",
        "print(f'non veg menu:(non_veg)')\n",
        "\n",
        "def restaurant(veg, non_veg):\n",
        "  while True:\n",
        "     user=input(\"please tell your order\")\n",
        "     if user in veg:\n",
        "        print(f' we have {user} in veg, it will be ready please wait for it')\n",
        "        break\n",
        "     elif user in non_veg:\n",
        "        print(f' we have {user} in non veg, it will be ready please wait for it')\n",
        "        break\n",
        "     else:\n",
        "        print(f'{user} we are not serving the current item')\n",
        "\n",
        "restaurant(veg,non_veg)"
      ],
      "metadata": {
        "colab": {
          "base_uri": "https://localhost:8080/"
        },
        "id": "c3XrtLKAiLXq",
        "outputId": "5780abe1-c094-49b7-e20e-e60647577d3e"
      },
      "execution_count": 11,
      "outputs": [
        {
          "output_type": "stream",
          "name": "stdout",
          "text": [
            "Welcome to vamsi restaurant\n",
            "Here is our veg and non veg menu\n",
            "veg menu:(veg)\n",
            "non veg menu:(non_veg)\n",
            "please tell your orderpaneer\n",
            " we have paneer in veg, it will be ready please wait for it\n"
          ]
        }
      ]
    },
    {
      "cell_type": "markdown",
      "source": [
        "1) Write a python code to check if a number is prime or not using function."
      ],
      "metadata": {
        "id": "dDEM2v8CDcd7"
      }
    },
    {
      "cell_type": "code",
      "source": [
        "def prime_number(n):\n",
        "  if n < 2:  # 0 and 1 are not primes\n",
        "      return False\n",
        "  for i in range(2, int(n**0.5) + 1):\n",
        "    if n % i == 0:\n",
        "      return False\n",
        "    return True\n",
        "\n",
        "\n",
        "num = 20\n",
        "if prime_number(num):\n",
        "    print(f\"{num} is a prime number\")\n",
        "else:\n",
        "    print(f\"{num} is not a prime number\")\n"
      ],
      "metadata": {
        "colab": {
          "base_uri": "https://localhost:8080/"
        },
        "id": "qS90ORtWDrQ0",
        "outputId": "d73a0e51-a2c5-4006-f6d1-9bacc4bbcd89"
      },
      "execution_count": null,
      "outputs": [
        {
          "output_type": "stream",
          "name": "stdout",
          "text": [
            "20 is not a prime number\n"
          ]
        }
      ]
    },
    {
      "cell_type": "markdown",
      "source": [
        "2) Print the following number pattern.\n",
        "\n",
        "    1 1 1 1 1\n",
        "    2 2 2 2\n",
        "    3 3 3\n",
        "    4 4\n",
        "    5"
      ],
      "metadata": {
        "id": "FjTP5urZGQEc"
      }
    },
    {
      "cell_type": "code",
      "source": [
        "rows = 5\n",
        "b = 0\n",
        "# reverse for loop from 5 to 0\n",
        "for i in range(rows, 0, -1):\n",
        "    b += 1\n",
        "    for j in range(1, i + 1):\n",
        "        print(b, end=' ')\n",
        "    print()"
      ],
      "metadata": {
        "colab": {
          "base_uri": "https://localhost:8080/"
        },
        "id": "3xVF2DzMLctp",
        "outputId": "3ff7741c-a9a7-43e5-d8b6-a425d01d2a8f"
      },
      "execution_count": null,
      "outputs": [
        {
          "output_type": "stream",
          "name": "stdout",
          "text": [
            "1 1 1 1 1 \n",
            "2 2 2 2 \n",
            "3 3 3 \n",
            "4 4 \n",
            "5 \n"
          ]
        }
      ]
    },
    {
      "cell_type": "markdown",
      "source": [
        "3) Write a python code to convert celsius to fahrenheit."
      ],
      "metadata": {
        "id": "GEE7xqsWLloa"
      }
    },
    {
      "cell_type": "code",
      "source": [
        "# Python Program to convert temperature in celsius to fahrenheit\n",
        "\n",
        "celsius = 27.5\n",
        "\n",
        "# calculate fahrenheit\n",
        "fahrenheit = (celsius * 1.8) + 32\n",
        "print(fahrenheit)"
      ],
      "metadata": {
        "colab": {
          "base_uri": "https://localhost:8080/"
        },
        "id": "YbCFXZlKMVsX",
        "outputId": "696431df-76df-411c-da38-f6160a5df14f"
      },
      "execution_count": 12,
      "outputs": [
        {
          "output_type": "stream",
          "name": "stdout",
          "text": [
            "81.5\n"
          ]
        }
      ]
    },
    {
      "cell_type": "markdown",
      "source": [
        "4) Write a functio to calculate simple interest."
      ],
      "metadata": {
        "id": "RsSGBz3fMhUV"
      }
    },
    {
      "cell_type": "code",
      "source": [
        "def simple_interest(p,t,r):\n",
        "    print('The principal is', p)\n",
        "    print('The time period is', t)\n",
        "    print('The rate of interest is',r)\n",
        "\n",
        "    si = (p * t * r)/100\n",
        "\n",
        "    print('The Simple Interest is', si)\n",
        "    return si\n",
        "\n",
        "simple_interest(8, 5, 4)"
      ],
      "metadata": {
        "colab": {
          "base_uri": "https://localhost:8080/"
        },
        "id": "9uR-DBE4NmCf",
        "outputId": "e974ae77-99b5-4cd1-bb05-e42c0ddf2f45"
      },
      "execution_count": null,
      "outputs": [
        {
          "output_type": "stream",
          "name": "stdout",
          "text": [
            "The principal is 8\n",
            "The time period is 5\n",
            "The rate of interest is 4\n",
            "The Simple Interest is 1.6\n"
          ]
        },
        {
          "output_type": "execute_result",
          "data": {
            "text/plain": [
              "1.6"
            ]
          },
          "metadata": {},
          "execution_count": 26
        }
      ]
    },
    {
      "cell_type": "markdown",
      "source": [
        "5) Write a python code to convert integer into decimal by using function."
      ],
      "metadata": {
        "id": "sRFfqrdD6yn9"
      }
    },
    {
      "cell_type": "code",
      "source": [
        "integer_value = 14\n",
        "decimal_value = float(integer_value)\n",
        "print(decimal_value)"
      ],
      "metadata": {
        "colab": {
          "base_uri": "https://localhost:8080/"
        },
        "id": "4VoJOxD377tZ",
        "outputId": "7b14ad68-d0c2-4d1f-f956-f37f4884c77d"
      },
      "execution_count": null,
      "outputs": [
        {
          "output_type": "stream",
          "name": "stdout",
          "text": [
            "14.0\n"
          ]
        }
      ]
    },
    {
      "cell_type": "markdown",
      "source": [
        "6) Write a python code to check given character is digit or not."
      ],
      "metadata": {
        "id": "jkllNEF7P7YF"
      }
    },
    {
      "cell_type": "code",
      "source": [
        "character = input(\"Enter a character: \")\n",
        "\n",
        "#Checking if the character is a digit\n",
        "if character.isdigit():\n",
        "  print(f\" The given character {character} is a digit\")\n",
        "else:\n",
        "  print(f\" The given character {character} is a digit\")"
      ],
      "metadata": {
        "colab": {
          "base_uri": "https://localhost:8080/"
        },
        "id": "zYQQzXYjQwGH",
        "outputId": "d16b6535-0813-480e-b88f-5e623c943ae4"
      },
      "execution_count": null,
      "outputs": [
        {
          "output_type": "stream",
          "name": "stdout",
          "text": [
            "Enter a character: 22\n",
            " The given character 22 is a digit\n"
          ]
        }
      ]
    },
    {
      "cell_type": "markdown",
      "source": [
        "7) Write a python program to check given number is armstrong or not."
      ],
      "metadata": {
        "id": "doFssgQ58M5Z"
      }
    },
    {
      "cell_type": "code",
      "source": [
        "n = int(input(\"Enter a number: \"))\n",
        "\n",
        "#initialize the sum\n",
        "s = 0\n",
        "\n",
        "temp = n\n",
        "while temp > 0:\n",
        "    digit = temp % 10\n",
        "    s += digit ** 3\n",
        "    temp //= 10\n",
        "\n",
        "if n == s:\n",
        "   print(n,\"is an Armstrong number\")\n",
        "else:\n",
        "   print(n,\"is not an Armstrong number\")\n"
      ],
      "metadata": {
        "colab": {
          "base_uri": "https://localhost:8080/"
        },
        "id": "V5371N6H-cO6",
        "outputId": "1dc4e6fa-e9c4-4586-f20e-d1669deb9e2e"
      },
      "execution_count": null,
      "outputs": [
        {
          "output_type": "stream",
          "name": "stdout",
          "text": [
            "Enter a number: 456\n",
            "456 is not an Armstrong number\n"
          ]
        }
      ]
    },
    {
      "cell_type": "markdown",
      "source": [
        "8) Write a python program to check non-repeating first character."
      ],
      "metadata": {
        "id": "-YK1v04h_1ww"
      }
    },
    {
      "cell_type": "code",
      "source": [
        "s = input(\"Enter a Character: \")\n",
        "t = []\n",
        "for i in s:\n",
        "  if s.count(i)<2:\n",
        "    t.append(i)\n",
        "    print(t)"
      ],
      "metadata": {
        "colab": {
          "base_uri": "https://localhost:8080/"
        },
        "id": "tWTkQyDWBfyQ",
        "outputId": "4279bd8d-f698-4aec-e6db-1b5b7f7c4fc4"
      },
      "execution_count": null,
      "outputs": [
        {
          "output_type": "stream",
          "name": "stdout",
          "text": [
            "Enter a Character: Python\n",
            "['P']\n",
            "['P', 'y']\n",
            "['P', 'y', 't']\n",
            "['P', 'y', 't', 'h']\n",
            "['P', 'y', 't', 'h', 'o']\n",
            "['P', 'y', 't', 'h', 'o', 'n']\n"
          ]
        }
      ]
    },
    {
      "cell_type": "markdown",
      "source": [
        "9) Write a python code to remove duplicate from the list."
      ],
      "metadata": {
        "id": "i-g6q4qeDNUu"
      }
    },
    {
      "cell_type": "code",
      "source": [
        "def Remove(duplicate):\n",
        "    final_list = []\n",
        "    for num in duplicate:\n",
        "        if num not in final_list:\n",
        "            final_list.append(num)\n",
        "    return final_list\n",
        "\n",
        "duplicate = [2, 4, 10, 20, 5, 2, 20, 4, 10, 3]\n",
        "print(Remove(duplicate))"
      ],
      "metadata": {
        "colab": {
          "base_uri": "https://localhost:8080/"
        },
        "id": "4JJ_P_NtFBe_",
        "outputId": "1787eb26-dac8-4259-f207-4018a69cc96b"
      },
      "execution_count": null,
      "outputs": [
        {
          "output_type": "stream",
          "name": "stdout",
          "text": [
            "[2, 4, 10, 20, 5, 3]\n"
          ]
        }
      ]
    },
    {
      "cell_type": "markdown",
      "source": [
        "10) Write a python code to replace the string space with a given character."
      ],
      "metadata": {
        "id": "MCpK8-6WFeqd"
      }
    },
    {
      "cell_type": "code",
      "source": [
        "s = \"Hello World\"\n",
        "s = s.replace(' ', '-')\n",
        "print(s)"
      ],
      "metadata": {
        "colab": {
          "base_uri": "https://localhost:8080/"
        },
        "id": "pEtQMML7GkOA",
        "outputId": "12e54819-02d3-4a2b-e10c-f291ab82c81e"
      },
      "execution_count": null,
      "outputs": [
        {
          "output_type": "stream",
          "name": "stdout",
          "text": [
            "Hello-World\n"
          ]
        }
      ]
    },
    {
      "cell_type": "markdown",
      "source": [
        "11) Write a python code to swap two numbers without using third variable."
      ],
      "metadata": {
        "id": "Sv1t8F31Gt1J"
      }
    },
    {
      "cell_type": "code",
      "source": [
        "x = 5\n",
        "y = 7\n",
        "\n",
        "print (\"Before swapping: \")\n",
        "print(\"Value of x : \", x, \" and y : \", y)\n",
        "\n",
        "# code to swap 'x' and 'y'\n",
        "x, y = y, x\n",
        "\n",
        "print (\"After swapping: \")\n",
        "print(\"Value of x : \", x, \" and y : \", y)"
      ],
      "metadata": {
        "colab": {
          "base_uri": "https://localhost:8080/"
        },
        "id": "bdVriuqRH9tv",
        "outputId": "cae01479-b40a-4aef-faed-6166d15822fb"
      },
      "execution_count": null,
      "outputs": [
        {
          "output_type": "stream",
          "name": "stdout",
          "text": [
            "Before swapping: \n",
            "Value of x :  5  and y :  7\n",
            "After swapping: \n",
            "Value of x :  7  and y :  5\n"
          ]
        }
      ]
    },
    {
      "cell_type": "markdown",
      "source": [
        "12) Write a python code to add two integers without using any arithmetic operators."
      ],
      "metadata": {
        "id": "yKDz2EmQIJJk"
      }
    },
    {
      "cell_type": "code",
      "source": [
        "a=int(input(\"Enter the number for a: \"))\n",
        "b=int(input(\"Enter the number for b: \"))\n",
        "def add(a,b):\n",
        "\n",
        "  while(b != 0):\n",
        "     c=a&b #and operator\n",
        "     a=a^b #Xor operator\n",
        "     b=c<<1\n",
        "  return a\n",
        "\n",
        "print(\"Sum of two numbers\",add(a,b))"
      ],
      "metadata": {
        "colab": {
          "base_uri": "https://localhost:8080/"
        },
        "id": "hX5mJTubKFme",
        "outputId": "c122602e-af15-4eca-e0d2-d1daddef9f4a"
      },
      "execution_count": null,
      "outputs": [
        {
          "output_type": "stream",
          "name": "stdout",
          "text": [
            "Enter the number for a: 5\n",
            "Enter the number for b: 9\n",
            "Sum of two numbers 14\n"
          ]
        }
      ]
    },
    {
      "cell_type": "markdown",
      "source": [
        "13) Write a python code to find greatest common divisor."
      ],
      "metadata": {
        "id": "SqY4gXChmHNS"
      }
    },
    {
      "cell_type": "code",
      "source": [
        "a = 18\n",
        "b = 12\n",
        "\n",
        "divisor = min(a, b)\n",
        "\n",
        "while divisor > 0:\n",
        "    if a%divisor == 0 and b%divisor == 0:\n",
        "        print('The GCD is', divisor)\n",
        "        break\n",
        "    divisor -= 1"
      ],
      "metadata": {
        "colab": {
          "base_uri": "https://localhost:8080/"
        },
        "id": "ZgYgjU45nWzg",
        "outputId": "4543e522-0034-46f6-9fb3-b86ab6af66d1"
      },
      "execution_count": 16,
      "outputs": [
        {
          "output_type": "stream",
          "name": "stdout",
          "text": [
            "The GCD is 6\n"
          ]
        }
      ]
    }
  ]
}