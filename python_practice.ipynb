{
  "nbformat": 4,
  "nbformat_minor": 0,
  "metadata": {
    "colab": {
      "provenance": []
    },
    "kernelspec": {
      "name": "python3",
      "display_name": "Python 3"
    },
    "language_info": {
      "name": "python"
    }
  },
  "cells": [
    {
      "cell_type": "markdown",
      "source": [
        "1) What is Python and why is it popular?\n",
        "-  Python is an interpreted, object oriented,high-level programming language with dynamic semantics.\n",
        "*  Its high level built in data structures, combined with dynamics\n",
        " typing and dynamic binding, make it very attractive for rapid application development.\n",
        "*  Pythonis the most accessible open-source coding language as it has a simple syntax to code.\n",
        "*  Because of its simplicity of learning and utilization,python codes can be handly composed and executed much more quickly than other programming languages."
      ],
      "metadata": {
        "id": "wfqhDkqXOOb_"
      }
    },
    {
      "cell_type": "markdown",
      "source": [
        "2) What is an IDE and name a few popular python IDEs?\n",
        "-  IDE stands for Integrated Development Environment is a software that facilitates to develop applications.\n",
        "*  As the name implies, IDEs integrate several tools specially designed for software development.\n",
        "*  It provides a bundle of functionalities like writing the code, highlighting the errors, debugging, testing the code, etc.\n",
        "*  Some popular IDEs-\n",
        "*  PyCharm\n",
        "*  IDLE\n",
        "*  Visual Studio code\n",
        "*  sublime text\n",
        "*  Atom\n",
        "*  Spyder"
      ],
      "metadata": {
        "id": "XJ9rnwX8QlZn"
      }
    },
    {
      "cell_type": "markdown",
      "source": [
        "3)  What are the rules for naming variables in python?\n",
        "-   A variable name must start with a letter or the underscore character.\n",
        "*   A variable name cannot start wit a number.\n",
        "*  A variable name can only contain alpha numneric characters and underscores.\n",
        "*  Variable names are case sensitives.\n",
        "*  Python reserved keywords cannot be used naming the variables."
      ],
      "metadata": {
        "id": "lhKRwFV8TdrF"
      }
    },
    {
      "cell_type": "markdown",
      "source": [
        "4)  How do you assign multiple values to multiple variables in a single line?\n",
        "-   A variable is a segment of memory with a unique name used to hold data that will later be processed.\n",
        "*  Although each programming language has a different mechanism for declaring variables, the name and the data that will be assigned to each variable are always the same.\n",
        "*  They are capable of storing values of data types."
      ],
      "metadata": {
        "id": "gGTnMqq3Usuf"
      }
    },
    {
      "cell_type": "markdown",
      "source": [
        "5)  Can you use python keywords as variable names? Why or why not?\n",
        "-   Python keywords cannot be used as variable name. If you give a variable an illegal name, you will get a syntax error.\n",
        "*  Keywords are predefined, reserved words used in Python programming that have special meanings to the compiler.\n",
        "*  We cannot use a keyword as a variable name, function name, or any other identifier.\n",
        "*  They are used to define the syntax and structure of the Python language."
      ],
      "metadata": {
        "id": "O_pF3JQZVqzp"
      }
    },
    {
      "cell_type": "markdown",
      "source": [
        "6)  Why are comments important in programming?\n",
        "-   Comments are text notes added to the program to provide explanatory information about the source code.\n",
        "*  They are used in a programming language to document the program and remind programmers of what tricky things they just did with the code and also helps the later generation for understanding and maintenance of code.\n",
        "*   The compiler considers these as non-executable statements. Different programming language uses a different way of including the comments in the source code."
      ],
      "metadata": {
        "id": "oARnoJcvXyzG"
      }
    },
    {
      "cell_type": "markdown",
      "source": [
        "7) What are the basic data types in Python?\n",
        "-  There are two types od data types in python-\n",
        "*  Basic data types- Integer, float, complex,boolean.\n",
        "*  Advanced data types- List,string, tuple, dictionary, set."
      ],
      "metadata": {
        "id": "Rhx_LZzjYfdE"
      }
    },
    {
      "cell_type": "markdown",
      "source": [
        "8) How do you convert a string to an integer in Python?\n",
        "-  In Python, strings can be converted into an integer using built-in functions like ‘int()’, ‘eval()’, ‘str.isdigit()’, etc. However, it’s important to note that the string must represent a valid integer value for the conversion to succeed.\n"
      ],
      "metadata": {
        "id": "kQeqtEi9Zd4-"
      }
    },
    {
      "cell_type": "code",
      "source": [
        "number = int('100')\n",
        "print(number)"
      ],
      "metadata": {
        "colab": {
          "base_uri": "https://localhost:8080/"
        },
        "id": "Z9LgXJcCcNdo",
        "outputId": "8d851cf0-cb0a-4c1a-feba-f808168823f9"
      },
      "execution_count": 1,
      "outputs": [
        {
          "output_type": "stream",
          "name": "stdout",
          "text": [
            "100\n"
          ]
        }
      ]
    },
    {
      "cell_type": "markdown",
      "source": [
        "9)  What is the difference between int and float?\n",
        "-  Integer- Integer is a data type that represents whole numbers without any decimal places. It has a smaller range and cannot store fractional values. Integer is generally used when precise calculations or exact values are required.\n",
        "*  Float- Float is a data type that represents decimal numbers and allows for fractional values. It has a larger range and can store larger numbers compared to Integer.Float is used when decimal values or approximate calculations are needed.\n",
        "\n"
      ],
      "metadata": {
        "id": "Lsf1TUhYcUGX"
      }
    },
    {
      "cell_type": "markdown",
      "source": [
        "10) How do you check the data type of a variable?\n",
        "-  To get the type of a variable in Python, you can use the built-in type() function.\n",
        "*  In Python, everything is an object. So, when you use the type() function to print the type of the value stored in a variable to the console, it returns the class type of the object."
      ],
      "metadata": {
        "id": "kom3dZpndBlE"
      }
    },
    {
      "cell_type": "code",
      "source": [
        "myInt = 50\n",
        "print(type(myInt))\n",
        "\n",
        "myFloat = 10.50\n",
        "print(type(myFloat))\n",
        "\n",
        "myString = \"My name is Adam\"\n",
        "print(type(myString))\n"
      ],
      "metadata": {
        "colab": {
          "base_uri": "https://localhost:8080/"
        },
        "id": "Z_xW132GeHLp",
        "outputId": "66f4929e-cd5b-41bf-b85f-157c9cdea673"
      },
      "execution_count": 2,
      "outputs": [
        {
          "output_type": "stream",
          "name": "stdout",
          "text": [
            "<class 'int'>\n",
            "<class 'float'>\n",
            "<class 'str'>\n"
          ]
        }
      ]
    },
    {
      "cell_type": "markdown",
      "source": [
        "11) How do you add an element to a list?\n",
        "-   In Python, adding elements to a list is a common operation that can be done in several ways.\n",
        "*  The append() method is the simplest way to add an element to the end of a list.\n",
        "*  This method can only add one element at a time.One of the simplest methods is using the append() method."
      ],
      "metadata": {
        "id": "s8YxSu5MeJ--"
      }
    },
    {
      "cell_type": "markdown",
      "source": [
        "12) How do you create a tuple with one element?\n",
        "-  To create a tuple with only one item, you have add a comma after the item, otherwise Python will not recognize the variable as a tuple.\n"
      ],
      "metadata": {
        "id": "g8lhyTVPe5Vg"
      }
    },
    {
      "cell_type": "code",
      "source": [
        "# creating a tuple\n",
        "mytuple = (\"apple\")\n",
        "\n",
        "print(mytuple)\n",
        "print(type(mytuple))"
      ],
      "metadata": {
        "colab": {
          "base_uri": "https://localhost:8080/"
        },
        "id": "XMT1hyF8ghja",
        "outputId": "a18db547-9817-46bf-a478-606b1ffa3ae7"
      },
      "execution_count": 3,
      "outputs": [
        {
          "output_type": "stream",
          "name": "stdout",
          "text": [
            "apple\n",
            "<class 'str'>\n"
          ]
        }
      ]
    },
    {
      "cell_type": "markdown",
      "source": [
        "13) How do you access a value in a dictionary using a key?\n",
        "-  A dictionary is quite a useful data structure in Python programming that is usually used to hash a particular key with value so that it can be retrieved efficiently.\n",
        "* To access an item in the dictionary, refer to its key name inside square brackets."
      ],
      "metadata": {
        "id": "QSG2ocxAgkRI"
      }
    },
    {
      "cell_type": "code",
      "source": [
        "dict = {\"country\" : \"India\",\"continent\" : \"Asia\",\"Other_name\" : \"Bharat\"}\n",
        "x = dict[\"continent\"]\n",
        "print(x)"
      ],
      "metadata": {
        "colab": {
          "base_uri": "https://localhost:8080/"
        },
        "id": "i6r1BxqYhhJQ",
        "outputId": "4a310c45-5682-45ff-ba9c-c0a8901ed369"
      },
      "execution_count": 4,
      "outputs": [
        {
          "output_type": "stream",
          "name": "stdout",
          "text": [
            "Asia\n"
          ]
        }
      ]
    },
    {
      "cell_type": "markdown",
      "source": [
        "14)  How do you access elements in a list?\n",
        "-  List items are indexed and you can access them by referring to the index number."
      ],
      "metadata": {
        "id": "HOWKx2J_huwY"
      }
    },
    {
      "cell_type": "code",
      "source": [
        "thislist = [\"apple\", \"banana\", \"cherry\"]\n",
        "print(thislist[1])"
      ],
      "metadata": {
        "colab": {
          "base_uri": "https://localhost:8080/"
        },
        "id": "T986cCi6jj2x",
        "outputId": "aa18c131-d64b-44e8-d4ac-ceca4d0516c0"
      },
      "execution_count": 6,
      "outputs": [
        {
          "output_type": "stream",
          "name": "stdout",
          "text": [
            "banana\n"
          ]
        }
      ]
    },
    {
      "cell_type": "markdown",
      "source": [
        "15) How do you access a character in a string?\n",
        "-  Individual characters of a String can be accessed by using the method of Indexing.\n",
        "*  Indexing allows negative address references to access characters from the back of the String.\n",
        "*  While accessing an index out of the range will cause an IndexError.\n",
        "*  Only Integers are allowed to be passed as an index, float or other types that will cause a TypeError.\n",
        "\n"
      ],
      "metadata": {
        "id": "GipWJegZiNcN"
      }
    },
    {
      "cell_type": "markdown",
      "source": [
        "16)  How do you format strings in Python?\n",
        "-  String formatting allows you to create dynamic strings by combining variables and values.\n",
        "* There are five different ways to perform string formatting in Python-\n",
        "* Formatting with % Operator.\n",
        "* Formatting with format() string method.\n",
        "* Formatting with string literals, called f-strings.\n",
        "* Formatting with String Template Class\n",
        "* Formatting with center() string method."
      ],
      "metadata": {
        "id": "vcI8P8rOjs46"
      }
    },
    {
      "cell_type": "markdown",
      "source": [
        "17) What is a tuple and how is it different from a list?\n",
        "-  Lists and Tuples in Python are two classes of Python Data Structures.\n",
        "*  The list structure is dynamic, and readily changed whereas the tuple structure is static and cannot be changed.\n",
        "* This means that the tuple is generally faster than the list.\n",
        "* Lists are denoted by square brackets and tuples are denoted with parenthesis."
      ],
      "metadata": {
        "id": "7eKlkVOxklYU"
      }
    },
    {
      "cell_type": "markdown",
      "source": [
        "18) How do you concatenate two tuples?\n",
        "-  We can concatenate the two tuples using the arithmetic operator ‘+’, called plus.\n",
        "* The logic is straightforward, as you add two numbers like 4 + 5. Similarly, you concatenate the tuple like tuple1 + tuple2.\n"
      ],
      "metadata": {
        "id": "GOjmUY5tlDwW"
      }
    },
    {
      "cell_type": "code",
      "source": [
        "temperature = (23, 25, 22, 24)\n",
        "humidity = (45, 50, 55, 48)\n",
        "\n",
        "concatenated_data = temperature + humidity\n",
        "print(concatenated_data)"
      ],
      "metadata": {
        "colab": {
          "base_uri": "https://localhost:8080/"
        },
        "id": "FhpwF3UJlzpy",
        "outputId": "2561094a-b816-4d24-d68c-51f9e9af5fe6"
      },
      "execution_count": 7,
      "outputs": [
        {
          "output_type": "stream",
          "name": "stdout",
          "text": [
            "(23, 25, 22, 24, 45, 50, 55, 48)\n"
          ]
        }
      ]
    },
    {
      "cell_type": "markdown",
      "source": [
        "19) How do you access values in a dictionary?\n",
        "-  You can access the items of a dictionary by referring to its key name, inside square brackets."
      ],
      "metadata": {
        "id": "UshoFrsPl_S2"
      }
    },
    {
      "cell_type": "code",
      "source": [
        "thisdict = {\"brand\": \"Ford\",\"model\": \"Mustang\",\"year\": 1964}\n",
        "x = thisdict[\"model\"]\n"
      ],
      "metadata": {
        "id": "vDfv1dwqoV4y"
      },
      "execution_count": 9,
      "outputs": []
    },
    {
      "cell_type": "markdown",
      "source": [
        "20) How do you add a key-value pair to a dictionary?\n",
        "-  A dictionary in Python is an unordered collection of data values, used to store data values like a map, unlike other Data Types that hold only a single value as an element, a Dictionary holds a key: value pair.\n",
        "*  While using a Dictionary, sometimes, we need to add or modify the key/value inside the dictionary."
      ],
      "metadata": {
        "id": "WJV628Snojpo"
      }
    },
    {
      "cell_type": "markdown",
      "source": [
        "21) How do you remove a key-value pair from a dictionary?\n",
        "-  Dictionary is used in manifold practical applications such as day-day programming, web development, and AI/ML programming as well, making it a useful container overall.\n",
        "* Hence, knowing shorthands for achieving different tasks related to dictionary usage always is a plus.\n"
      ],
      "metadata": {
        "id": "kvl17PPCpmqF"
      }
    },
    {
      "cell_type": "code",
      "source": [
        "name = {'Chitra': 22,'Akanksha': 22,}\n",
        "del name['Akanksha']\n",
        "print (name)"
      ],
      "metadata": {
        "colab": {
          "base_uri": "https://localhost:8080/"
        },
        "id": "JMR386JjqMpP",
        "outputId": "17d94466-ec7a-4699-8923-93d2e614d63e"
      },
      "execution_count": 11,
      "outputs": [
        {
          "output_type": "stream",
          "name": "stdout",
          "text": [
            "{'Chitra': 22}\n"
          ]
        }
      ]
    },
    {
      "cell_type": "markdown",
      "source": [
        "22) How do you add an element to a set?\n",
        "-  The Python set add() method adds a given element to a set if the element is not present in the set in Python.\n",
        "* It is used to add a new element to the empty set."
      ],
      "metadata": {
        "id": "X2ALfNvOq0AQ"
      }
    },
    {
      "cell_type": "markdown",
      "source": [
        "23)  How do you remove an element from a set?\n",
        "-  To remove an item in a set, use the remove(), or the discard() method."
      ],
      "metadata": {
        "id": "LlUxqtIcrtb2"
      }
    },
    {
      "cell_type": "code",
      "source": [
        "thisset = {\"apple\", \"banana\", \"cherry\"}\n",
        "thisset.remove(\"banana\")\n",
        "print(thisset)\n"
      ],
      "metadata": {
        "colab": {
          "base_uri": "https://localhost:8080/"
        },
        "id": "oveUUw5esE1Q",
        "outputId": "6693f6fd-7c80-46ef-fe24-974b410f3b4c"
      },
      "execution_count": 12,
      "outputs": [
        {
          "output_type": "stream",
          "name": "stdout",
          "text": [
            "{'apple', 'cherry'}\n"
          ]
        }
      ]
    },
    {
      "cell_type": "markdown",
      "source": [
        "24) What are the common set operations in Python?\n",
        "-  The concept of a set has been explicitly translated from mathematics into programming languages like Python.\n",
        "*  With it, some extremely helpful methods have come, such as union(), intersection(), and difference(), also directly translated from mathematics."
      ],
      "metadata": {
        "id": "80N6EnTRsOaY"
      }
    },
    {
      "cell_type": "markdown",
      "source": [
        "25)  Write a Python program to find the index of an element in a tuple?\n"
      ],
      "metadata": {
        "id": "FKSW2a3xtFzv"
      }
    },
    {
      "cell_type": "code",
      "source": [
        "# tuple containing vowels\n",
        "vowels = ('a', 'e', 'i', 'o', 'u')\n",
        "index = vowels.index('e')\n",
        "print(index)"
      ],
      "metadata": {
        "colab": {
          "base_uri": "https://localhost:8080/"
        },
        "id": "MNUjwxUOteIJ",
        "outputId": "df28c513-1e41-44f5-d09f-399243cca523"
      },
      "execution_count": 13,
      "outputs": [
        {
          "output_type": "stream",
          "name": "stdout",
          "text": [
            "1\n"
          ]
        }
      ]
    }
  ]
}